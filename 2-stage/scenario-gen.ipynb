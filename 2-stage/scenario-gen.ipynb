{
 "cells": [
  {
   "attachments": {},
   "cell_type": "markdown",
   "metadata": {},
   "source": [
    "## Scenario generation\n"
   ]
  },
  {
   "cell_type": "code",
   "execution_count": 1,
   "metadata": {},
   "outputs": [
    {
     "name": "stdout",
     "output_type": "stream",
     "text": [
      "               TimeUTC   spotMeas   spotPred  imbalMeas  windMeas   windFor  \\\n",
      "0  2022-01-01 01:00:00  43.220001  43.104021      43.22  0.405336  0.349182   \n",
      "1  2022-01-01 02:00:00  45.459999  45.593261      45.46  0.367900  0.293244   \n",
      "2  2022-01-01 03:00:00  37.669998  45.770621      37.67  0.337995  0.250215   \n",
      "3  2022-01-01 04:00:00  39.700001  40.260896      39.70  0.320568  0.183735   \n",
      "4  2022-01-01 05:00:00  40.590000  39.473605      40.59  0.280766  0.138769   \n",
      "\n",
      "   loadFor       trans  \n",
      "0     1889 -264.400024  \n",
      "1     1857 -217.299988  \n",
      "2     1824  105.100006  \n",
      "3     1831  386.299988  \n",
      "4     1887  476.200012  \n",
      "                   TimeUTC    spotMeas    spotPred  imbalMeas  windMeas  \\\n",
      "10171  2023-02-28 20:00:00  158.270004  160.280663      97.00  0.016997   \n",
      "10172  2023-02-28 21:00:00  153.779999  160.507938     153.78  0.017857   \n",
      "10173  2023-02-28 22:00:00  142.139999  140.869043     142.14  0.016566   \n",
      "10174  2023-02-28 23:00:00  133.080002  128.167204      45.39  0.021730   \n",
      "10175  2023-03-01 00:00:00  125.459999  122.492460      45.39  0.016136   \n",
      "\n",
      "        windFor  loadFor        trans  \n",
      "10171  0.025818     2326   827.699951  \n",
      "10172  0.025172     2257   921.899902  \n",
      "10173  0.024742     2149   969.500050  \n",
      "10174  0.023021     2184  1156.199974  \n",
      "10175  0.024957     2187  1191.900024  \n"
     ]
    },
    {
     "data": {
      "text/plain": [
       "(10176, 8)"
      ]
     },
     "execution_count": 1,
     "metadata": {},
     "output_type": "execute_result"
    }
   ],
   "source": [
    "# import pandas and read \"Data/all_dat_merged.csv\" into a dataframe\n",
    "import pandas as pd\n",
    "df = pd.read_csv(\"../market data/merged-data.csv\")\n",
    "# check the first 5 rows of the dataframe\n",
    "print(df.head())\n",
    "# check the last 5 rows of the dataframe\n",
    "print(df.tail())\n",
    "# check the shape of the dataframe\n",
    "df.shape"
   ]
  },
  {
   "cell_type": "code",
   "execution_count": 2,
   "metadata": {},
   "outputs": [
    {
     "name": "stderr",
     "output_type": "stream",
     "text": [
      "/var/folders/f_/09zgsjw54xvfw3k8907hvrnw0000gn/T/ipykernel_18752/2400920473.py:3: SettingWithCopyWarning: \n",
      "A value is trying to be set on a copy of a slice from a DataFrame\n",
      "\n",
      "See the caveats in the documentation: https://pandas.pydata.org/pandas-docs/stable/user_guide/indexing.html#returning-a-view-versus-a-copy\n",
      "  df.imbalMeas[idx] = df.spotMeas[idx]\n"
     ]
    }
   ],
   "source": [
    "# find index where the column \"imbalMeas\" is null\n",
    "idx = df[df[\"imbalMeas\"].isnull()].index\n",
    "df.imbalMeas[idx] = df.spotMeas[idx]"
   ]
  },
  {
   "cell_type": "code",
   "execution_count": 3,
   "metadata": {},
   "outputs": [],
   "source": [
    "# find empirical CDF of windMeas, spotMeas, and imbalMeas\n",
    "import numpy as np\n",
    "import matplotlib.pyplot as plt\n",
    "from scipy.interpolate import interp1d\n",
    "\n",
    "# compute empirical CDF of windMeas\n",
    "power_actual_sorted = np.sort(df['windMeas'])\n",
    "\n",
    "# compute empirical CDF of spotMeas\n",
    "nominal_sorted = np.sort(df['spotMeas'])\n",
    "\n",
    "# compute empirical CDF of imbalMeas\n",
    "bal_price_sorted = np.sort(df['imbalMeas'])\n",
    "\n",
    "\n",
    "\n",
    "# define lookup function that outputs the CDF value for a given x\n",
    "def lookup_cdf(x, x_sorted):\n",
    "    return np.searchsorted(x_sorted, x, side='right') / len(x_sorted)\n",
    "\n",
    "funECDF_power = interp1d(power_actual_sorted, [lookup_cdf(i,power_actual_sorted) for i in power_actual_sorted],bounds_error = False, fill_value=(0,1), assume_sorted=True)\n",
    "funECDF_nominal = interp1d(nominal_sorted, [lookup_cdf(i,nominal_sorted) for i in nominal_sorted],bounds_error = False, fill_value=(0,1), assume_sorted=True)\n",
    "funECDF_bal_price = interp1d(bal_price_sorted, [lookup_cdf(i,bal_price_sorted) for i in bal_price_sorted],bounds_error = False, fill_value=(0,1), assume_sorted=True)\n",
    "\n",
    "# ECDF\n",
    "def ecdf_power(x):\n",
    "    return (funECDF_power(x))\n",
    "\n",
    "def ecdf_nominal(x):\n",
    "    return (funECDF_nominal(x))\n",
    "\n",
    "def ecdf_bal_price(x):\n",
    "    return (funECDF_bal_price(x))\n",
    "\n",
    "funIECDF_power = interp1d([lookup_cdf(i,power_actual_sorted) for i in power_actual_sorted], power_actual_sorted,bounds_error = False, fill_value=(min(power_actual_sorted),max(power_actual_sorted)), assume_sorted=True)\n",
    "funIECDF_nominal = interp1d([lookup_cdf(i,nominal_sorted) for i in nominal_sorted], nominal_sorted,bounds_error = False, fill_value=(min(nominal_sorted),max(nominal_sorted)), assume_sorted=True)\n",
    "funIECDF_bal_price = interp1d([lookup_cdf(i,bal_price_sorted) for i in bal_price_sorted], bal_price_sorted,bounds_error = False, fill_value=(min(bal_price_sorted),max(bal_price_sorted)), assume_sorted=True)\n",
    "\n",
    "\n",
    "# inverse ECDF\n",
    "def iecdf_power(x):\n",
    "    return (funIECDF_power(x))\n",
    "\n",
    "def iecdf_nominal(x):\n",
    "    return (funIECDF_nominal(x))\n",
    "\n",
    "def iecdf_bal_price(x):\n",
    "    return (funIECDF_bal_price(x))\n"
   ]
  },
  {
   "cell_type": "code",
   "execution_count": 4,
   "metadata": {},
   "outputs": [
    {
     "data": {
      "image/png": "[encoded data removed]",
      "text/plain": [
       "<Figure size 432x288 with 1 Axes>"
      ]
     },
     "metadata": {
      "needs_background": "light"
     },
     "output_type": "display_data"
    },
    {
     "data": {
      "image/png": "[encoded data removed]",
      "text/plain": [
       "<Figure size 432x288 with 1 Axes>"
      ]
     },
     "metadata": {
      "needs_background": "light"
     },
     "output_type": "display_data"
    }
   ],
   "source": [
    "# list of x values to plot from 0 to 1\n",
    "x = np.linspace(0, 1, 100)\n",
    "x2 = np.linspace(0, 1000, 100)\n",
    "\n",
    "# plot the CDFs\n",
    "plt.plot(x, ecdf_power(x), label='windFor')\n",
    "plt.legend()\n",
    "plt.show()\n",
    "# new plot\n",
    "plt.plot(x2, ecdf_nominal(x2), label='DA')\n",
    "plt.plot(x2, ecdf_bal_price(x2), label='B')\n",
    "plt.legend()\n",
    "plt.show()\n"
   ]
  },
  {
   "cell_type": "code",
   "execution_count": 5,
   "metadata": {},
   "outputs": [],
   "source": [
    "# compute the transform of the variables\n",
    "y_power = ecdf_power(df['windMeas'])\n",
    "y_nominal = ecdf_nominal(df['spotMeas'])\n",
    "y_bal_price = ecdf_bal_price(df['imbalMeas'])\n"
   ]
  },
  {
   "cell_type": "code",
   "execution_count": 6,
   "metadata": {},
   "outputs": [],
   "source": [
    "# all y==0 are set to 0.0001\n",
    "y_power[y_power == 0] = 0.01\n",
    "y_nominal[y_nominal == 0] = 0.01\n",
    "y_bal_price[y_bal_price == 0] = 0.01\n",
    "\n",
    "# all y==1 are set to 0.9999\n",
    "y_power[y_power == 1] = 0.99\n",
    "y_nominal[y_nominal == 1] = 0.99\n",
    "y_bal_price[y_bal_price == 1] = 0.99\n"
   ]
  },
  {
   "cell_type": "code",
   "execution_count": 7,
   "metadata": {},
   "outputs": [
    {
     "data": {
      "text/plain": [
       "(array([0.00131963, 0.        , 0.00131963, 0.00131963, 0.00131963,\n",
       "        0.        , 0.00263925, 0.00263925, 0.00395888, 0.00395888,\n",
       "        0.00395888, 0.00791775, 0.00659813, 0.01187663, 0.01187663,\n",
       "        0.01451588, 0.01715513, 0.01715513, 0.03035139, 0.01979438,\n",
       "        0.04354764, 0.04486727, 0.04750652, 0.05674389, 0.00395888,\n",
       "        0.        , 0.22433633, 0.09897191, 0.11084854, 0.12404479,\n",
       "        0.1398803 , 0.15439618, 0.17023168, 0.18738682, 0.20586157,\n",
       "        0.22169708, 0.24149146, 0.25864659, 0.26260547, 0.30747273,\n",
       "        0.31011198, 0.32726712, 0.34046337, 0.35497925, 0.36685588,\n",
       "        0.37741288, 0.38005213, 0.38665026, 0.36025775, 0.44603341,\n",
       "        0.39060914, 0.40380539, 0.39060914, 0.37609326, 0.38137176,\n",
       "        0.37345401, 0.35497925, 0.34046337, 0.32726712, 0.30483348,\n",
       "        0.29955498, 0.2744821 , 0.25996622, 0.24149146, 0.22169708,\n",
       "        0.20454195, 0.18870644, 0.17023168, 0.15175693, 0.14251955,\n",
       "        0.12404479, 0.11084854, 0.09501303, 0.08973453, 0.07521865,\n",
       "        0.06466165, 0.05806352, 0.04882614, 0.04222801, 0.03562989,\n",
       "        0.03035139, 0.02639251, 0.01847476, 0.01979438, 0.01583551,\n",
       "        0.01187663, 0.010557  , 0.0052785 , 0.00923738, 0.00395888,\n",
       "        0.0052785 , 0.00263925, 0.00395888, 0.00131963, 0.00131963,\n",
       "        0.00131963, 0.00131963, 0.00131963, 0.        , 0.00131963]),\n",
       " array([-3.72342164e+00, -3.64895321e+00, -3.57448477e+00, -3.50001634e+00,\n",
       "        -3.42554791e+00, -3.35107948e+00, -3.27661104e+00, -3.20214261e+00,\n",
       "        -3.12767418e+00, -3.05320575e+00, -2.97873731e+00, -2.90426888e+00,\n",
       "        -2.82980045e+00, -2.75533201e+00, -2.68086358e+00, -2.60639515e+00,\n",
       "        -2.53192672e+00, -2.45745828e+00, -2.38298985e+00, -2.30852142e+00,\n",
       "        -2.23405298e+00, -2.15958455e+00, -2.08511612e+00, -2.01064769e+00,\n",
       "        -1.93617925e+00, -1.86171082e+00, -1.78724239e+00, -1.71277395e+00,\n",
       "        -1.63830552e+00, -1.56383709e+00, -1.48936866e+00, -1.41490022e+00,\n",
       "        -1.34043179e+00, -1.26596336e+00, -1.19149492e+00, -1.11702649e+00,\n",
       "        -1.04255806e+00, -9.68089626e-01, -8.93621194e-01, -8.19152761e-01,\n",
       "        -7.44684328e-01, -6.70215895e-01, -5.95747462e-01, -5.21279030e-01,\n",
       "        -4.46810597e-01, -3.72342164e-01, -2.97873731e-01, -2.23405298e-01,\n",
       "        -1.48936866e-01, -7.44684328e-02,  4.88498131e-15,  7.44684328e-02,\n",
       "         1.48936866e-01,  2.23405298e-01,  2.97873731e-01,  3.72342164e-01,\n",
       "         4.46810597e-01,  5.21279030e-01,  5.95747462e-01,  6.70215895e-01,\n",
       "         7.44684328e-01,  8.19152761e-01,  8.93621194e-01,  9.68089626e-01,\n",
       "         1.04255806e+00,  1.11702649e+00,  1.19149492e+00,  1.26596336e+00,\n",
       "         1.34043179e+00,  1.41490022e+00,  1.48936866e+00,  1.56383709e+00,\n",
       "         1.63830552e+00,  1.71277395e+00,  1.78724239e+00,  1.86171082e+00,\n",
       "         1.93617925e+00,  2.01064769e+00,  2.08511612e+00,  2.15958455e+00,\n",
       "         2.23405298e+00,  2.30852142e+00,  2.38298985e+00,  2.45745828e+00,\n",
       "         2.53192672e+00,  2.60639515e+00,  2.68086358e+00,  2.75533201e+00,\n",
       "         2.82980045e+00,  2.90426888e+00,  2.97873731e+00,  3.05320575e+00,\n",
       "         3.12767418e+00,  3.20214261e+00,  3.27661104e+00,  3.35107948e+00,\n",
       "         3.42554791e+00,  3.50001634e+00,  3.57448477e+00,  3.64895321e+00,\n",
       "         3.72342164e+00]),\n",
       " <BarContainer object of 100 artists>)"
      ]
     },
     "execution_count": 7,
     "metadata": {},
     "output_type": "execute_result"
    },
    {
     "data": {
      "image/png": "[encoded data removed]",
      "text/plain": [
       "<Figure size 432x288 with 1 Axes>"
      ]
     },
     "metadata": {
      "needs_background": "light"
     },
     "output_type": "display_data"
    }
   ],
   "source": [
    "# transform y varialbes to using inverse normal from scipy\n",
    "from scipy.stats import norm\n",
    "x_power = norm.ppf(y_power)\n",
    "x_nominal = norm.ppf(y_nominal)\n",
    "x_bal_price = norm.ppf(y_bal_price)\n",
    "\n",
    "# plot the transformed variables\n",
    "plt.hist(x_power, bins=100, density=True, alpha=0.5, label='Power')\n",
    "plt.hist(x_nominal, bins=100, density=True, alpha=0.5, label='DA')\n",
    "plt.hist(x_bal_price, bins=100, density=True, alpha=0.5, label='B')\n"
   ]
  },
  {
   "cell_type": "code",
   "execution_count": 8,
   "metadata": {},
   "outputs": [],
   "source": [
    "# Split observations into vectors of length 8\n",
    "x_power_8 = np.array_split(x_power, len(x_power)/8)\n",
    "x_nominal_8 = np.array_split(x_nominal, len(x_nominal)/8)\n",
    "x_bal_price_8 = np.array_split(x_bal_price, len(x_bal_price)/8)\n"
   ]
  },
  {
   "cell_type": "code",
   "execution_count": 9,
   "metadata": {},
   "outputs": [],
   "source": [
    "# concatenate the vectors into a matrix\n",
    "X = np.column_stack((x_power_8, x_nominal_8, x_bal_price_8))\n"
   ]
  },
  {
   "cell_type": "code",
   "execution_count": 10,
   "metadata": {},
   "outputs": [],
   "source": [
    "# compute covariance of X (remove observations with nan values)\n",
    "cov_X = np.cov(X, rowvar=False, ddof=0, aweights=None, fweights=None, bias=False)"
   ]
  },
  {
   "cell_type": "code",
   "execution_count": 11,
   "metadata": {},
   "outputs": [
    {
     "data": {
      "image/png": "[encoded data removed]",
      "text/plain": [
       "<Figure size 432x288 with 2 Axes>"
      ]
     },
     "metadata": {
      "needs_background": "light"
     },
     "output_type": "display_data"
    }
   ],
   "source": [
    "# print covariance matrix as heatmap\n",
    "import seaborn as sns\n",
    "sns.heatmap(cov_X, annot=False)\n",
    "plt.show()\n",
    "\n"
   ]
  },
  {
   "cell_type": "code",
   "execution_count": 12,
   "metadata": {},
   "outputs": [],
   "source": [
    "# set seed\n",
    "np.random.seed(420)\n",
    "\n",
    "# sample 500 observations from the multivariate normal distribution\n",
    "X_sample = np.random.multivariate_normal(np.zeros(24), cov_X, 500)\n"
   ]
  },
  {
   "cell_type": "code",
   "execution_count": 13,
   "metadata": {},
   "outputs": [],
   "source": [
    "# transform the sample back to the original variables\n",
    "y_power_sample = norm.cdf(X_sample[:,0:8])\n",
    "y_nominal_sample = norm.cdf(X_sample[:,8:16])\n",
    "y_bal_price_sample = norm.cdf(X_sample[:,16:24])"
   ]
  },
  {
   "cell_type": "code",
   "execution_count": 14,
   "metadata": {},
   "outputs": [],
   "source": [
    "# deine list\n",
    "power_actual_sample = []\n",
    "nominal_sample = []\n",
    "bal_price_sample = []\n",
    "\n",
    "# loop through each row of the sample\n",
    "for i in range(0, len(y_power_sample)):\n",
    "    # inverse CDF of windMeas\n",
    "    power_actual_sample.append(iecdf_power(y_power_sample[i]))\n",
    "    # inverse CDF of spotMeas\n",
    "    nominal_sample.append(iecdf_nominal(y_nominal_sample[i]))\n",
    "    # inverse CDF of imbalMeas\n",
    "    bal_price_sample.append(iecdf_bal_price(y_bal_price_sample[i]))\n",
    "    \n"
   ]
  },
  {
   "cell_type": "code",
   "execution_count": 15,
   "metadata": {},
   "outputs": [
    {
     "data": {
      "image/png": "[encoded data removed]",
      "text/plain": [
       "<Figure size 432x288 with 1 Axes>"
      ]
     },
     "metadata": {
      "needs_background": "light"
     },
     "output_type": "display_data"
    },
    {
     "data": {
      "image/png": "[encoded data removed]",
      "text/plain": [
       "<Figure size 432x288 with 1 Axes>"
      ]
     },
     "metadata": {
      "needs_background": "light"
     },
     "output_type": "display_data"
    }
   ],
   "source": [
    "# plot the first sample\n",
    "plt.plot(power_actual_sample[0], label='windFor')\n",
    "plt.legend()\n",
    "plt.show()\n",
    "\n",
    "plt.plot(nominal_sample[0], label='DA')\n",
    "plt.plot(bal_price_sample[0], label='B')\n",
    "plt.legend()\n",
    "plt.show()\n",
    "\n",
    "\n"
   ]
  },
  {
   "cell_type": "code",
   "execution_count": 16,
   "metadata": {},
   "outputs": [
    {
     "data": {
      "text/plain": [
       "(500, 24)"
      ]
     },
     "execution_count": 16,
     "metadata": {},
     "output_type": "execute_result"
    }
   ],
   "source": [
    "# stack all samples into a matrix\n",
    "X_sample = np.column_stack((nominal_sample, bal_price_sample,power_actual_sample))\n",
    "X_sample.shape"
   ]
  },
  {
   "cell_type": "code",
   "execution_count": 17,
   "metadata": {},
   "outputs": [],
   "source": [
    "# save the samples to a csv file\n",
    "np.savetxt(\"X_sample.csv\", X_sample, delimiter=\",\")\n",
    "\n"
   ]
  },
  {
   "cell_type": "code",
   "execution_count": null,
   "metadata": {},
   "outputs": [],
   "source": []
  }
 ],
 "metadata": {
  "kernelspec": {
   "display_name": "Python 3",
   "language": "python",
   "name": "python3"
  },
  "language_info": {
   "codemirror_mode": {
    "name": "ipython",
    "version": 3
   },
   "file_extension": ".py",
   "mimetype": "text/x-python",
   "name": "python",
   "nbconvert_exporter": "python",
   "pygments_lexer": "ipython3",
   "version": "3.10.5"
  },
  "orig_nbformat": 4
 },
 "nbformat": 4,
 "nbformat_minor": 2
}
