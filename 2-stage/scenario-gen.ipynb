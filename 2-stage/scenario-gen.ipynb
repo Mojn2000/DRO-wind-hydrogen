{
 "cells": [
  {
   "attachments": {},
   "cell_type": "markdown",
   "metadata": {},
   "source": [
    "## Scenario generation\n"
   ]
  },
  {
   "cell_type": "code",
   "execution_count": 1,
   "metadata": {},
   "outputs": [
    {
     "name": "stdout",
     "output_type": "stream",
     "text": [
      "               TimeUTC    spotMeas    spotPred  imbalMeas  windMeas   windFor  \\\n",
      "0  2022-07-01 00:00:00  268.010010  270.873794     143.00  0.160226  0.192141   \n",
      "1  2022-07-01 01:00:00  266.079987  276.368273     143.00  0.150673  0.204299   \n",
      "2  2022-07-01 02:00:00  265.329987  256.519986     143.00  0.124620  0.214286   \n",
      "3  2022-07-01 03:00:00  282.130005  295.306638     470.48  0.146548  0.211246   \n",
      "4  2022-07-01 04:00:00  355.190002  361.059032     355.19  0.120495  0.209726   \n",
      "\n",
      "   loadFor       trans  \n",
      "0     1870  189.500000  \n",
      "1     1850   26.700012  \n",
      "2     1851  -59.799988  \n",
      "3     1909  100.599991  \n",
      "4     2167  278.100021  \n",
      "                  TimeUTC  spotMeas   spotPred  imbalMeas  windMeas   windFor  \\\n",
      "4411  2022-12-31 19:00:00     40.50  42.087609       1.34  0.067086  0.189318   \n",
      "4412  2022-12-31 20:00:00     14.89  14.222873      -7.00  0.060139  0.168693   \n",
      "4413  2022-12-31 21:00:00      9.94  10.384160      -7.00  0.051455  0.131133   \n",
      "4414  2022-12-31 22:00:00      4.84   4.808402      -6.72  0.078376  0.112679   \n",
      "4415  2022-12-31 23:00:00      2.01   2.078514      -6.72  0.154147  0.136995   \n",
      "\n",
      "      loadFor        trans  \n",
      "4411     2218   391.700012  \n",
      "4412     2265   797.599976  \n",
      "4413     2177   904.500000  \n",
      "4414     2079  1090.200012  \n",
      "4415     2135   852.599998  \n"
     ]
    },
    {
     "data": {
      "text/plain": [
       "(4416, 8)"
      ]
     },
     "execution_count": 1,
     "metadata": {},
     "output_type": "execute_result"
    }
   ],
   "source": [
    "# import pandas and read \"Data/all_dat_merged.csv\" into a dataframe\n",
    "import pandas as pd\n",
    "df = pd.read_csv(\"../market data/merged-data.csv\")\n",
    "# check the first 5 rows of the dataframe\n",
    "print(df.head())\n",
    "# check the last 5 rows of the dataframe\n",
    "print(df.tail())\n",
    "# check the shape of the dataframe\n",
    "df.shape"
   ]
  },
  {
   "cell_type": "code",
   "execution_count": 2,
   "metadata": {},
   "outputs": [
    {
     "name": "stderr",
     "output_type": "stream",
     "text": [
      "/var/folders/f_/09zgsjw54xvfw3k8907hvrnw0000gn/T/ipykernel_19475/2400920473.py:3: SettingWithCopyWarning: \n",
      "A value is trying to be set on a copy of a slice from a DataFrame\n",
      "\n",
      "See the caveats in the documentation: https://pandas.pydata.org/pandas-docs/stable/user_guide/indexing.html#returning-a-view-versus-a-copy\n",
      "  df.imbalMeas[idx] = df.spotMeas[idx]\n"
     ]
    }
   ],
   "source": [
    "# find index where the column \"imbalMeas\" is null\n",
    "idx = df[df[\"imbalMeas\"].isnull()].index\n",
    "df.imbalMeas[idx] = df.spotMeas[idx]"
   ]
  },
  {
   "cell_type": "code",
   "execution_count": 3,
   "metadata": {},
   "outputs": [],
   "source": [
    "# find empirical CDF of windMeas, spotMeas, and imbalMeas\n",
    "import numpy as np\n",
    "import matplotlib.pyplot as plt\n",
    "from scipy.interpolate import interp1d\n",
    "\n",
    "# compute empirical CDF of windMeas\n",
    "power_actual_sorted = np.sort(df['windMeas'])\n",
    "\n",
    "# compute empirical CDF of spotMeas\n",
    "nominal_sorted = np.sort(df['spotMeas'])\n",
    "\n",
    "# compute empirical CDF of imbalMeas\n",
    "bal_price_sorted = np.sort(df['imbalMeas'])\n",
    "\n",
    "\n",
    "\n",
    "# define lookup function that outputs the CDF value for a given x\n",
    "def lookup_cdf(x, x_sorted):\n",
    "    return np.searchsorted(x_sorted, x, side='right') / len(x_sorted)\n",
    "\n",
    "funECDF_power = interp1d(power_actual_sorted, [lookup_cdf(i,power_actual_sorted) for i in power_actual_sorted],bounds_error = False, fill_value=(0,1), assume_sorted=True)\n",
    "funECDF_nominal = interp1d(nominal_sorted, [lookup_cdf(i,nominal_sorted) for i in nominal_sorted],bounds_error = False, fill_value=(0,1), assume_sorted=True)\n",
    "funECDF_bal_price = interp1d(bal_price_sorted, [lookup_cdf(i,bal_price_sorted) for i in bal_price_sorted],bounds_error = False, fill_value=(0,1), assume_sorted=True)\n",
    "\n",
    "# ECDF\n",
    "def ecdf_power(x):\n",
    "    return (funECDF_power(x))\n",
    "\n",
    "def ecdf_nominal(x):\n",
    "    return (funECDF_nominal(x))\n",
    "\n",
    "def ecdf_bal_price(x):\n",
    "    return (funECDF_bal_price(x))\n",
    "\n",
    "funIECDF_power = interp1d([lookup_cdf(i,power_actual_sorted) for i in power_actual_sorted], power_actual_sorted,bounds_error = False, fill_value=(min(power_actual_sorted),max(power_actual_sorted)), assume_sorted=True)\n",
    "funIECDF_nominal = interp1d([lookup_cdf(i,nominal_sorted) for i in nominal_sorted], nominal_sorted,bounds_error = False, fill_value=(min(nominal_sorted),max(nominal_sorted)), assume_sorted=True)\n",
    "funIECDF_bal_price = interp1d([lookup_cdf(i,bal_price_sorted) for i in bal_price_sorted], bal_price_sorted,bounds_error = False, fill_value=(min(bal_price_sorted),max(bal_price_sorted)), assume_sorted=True)\n",
    "\n",
    "\n",
    "# inverse ECDF\n",
    "def iecdf_power(x):\n",
    "    return (funIECDF_power(x))\n",
    "\n",
    "def iecdf_nominal(x):\n",
    "    return (funIECDF_nominal(x))\n",
    "\n",
    "def iecdf_bal_price(x):\n",
    "    return (funIECDF_bal_price(x))\n"
   ]
  },
  {
   "cell_type": "code",
   "execution_count": 4,
   "metadata": {},
   "outputs": [
    {
     "data": {
      "image/png": "[encoded data removed]",
      "text/plain": [
       "<Figure size 432x288 with 1 Axes>"
      ]
     },
     "metadata": {
      "needs_background": "light"
     },
     "output_type": "display_data"
    },
    {
     "data": {
      "image/png": "[encoded data removed]",
      "text/plain": [
       "<Figure size 432x288 with 1 Axes>"
      ]
     },
     "metadata": {
      "needs_background": "light"
     },
     "output_type": "display_data"
    }
   ],
   "source": [
    "# list of x values to plot from 0 to 1\n",
    "x = np.linspace(0, 1, 100)\n",
    "x2 = np.linspace(0, 1000, 100)\n",
    "\n",
    "# plot the CDFs\n",
    "plt.plot(x, ecdf_power(x), label='windFor')\n",
    "plt.legend()\n",
    "plt.show()\n",
    "# new plot\n",
    "plt.plot(x2, ecdf_nominal(x2), label='DA')\n",
    "plt.plot(x2, ecdf_bal_price(x2), label='B')\n",
    "plt.legend()\n",
    "plt.show()\n"
   ]
  },
  {
   "cell_type": "code",
   "execution_count": 5,
   "metadata": {},
   "outputs": [],
   "source": [
    "# compute the transform of the variables\n",
    "y_power = ecdf_power(df['windMeas'])\n",
    "y_nominal = ecdf_nominal(df['spotMeas'])\n",
    "y_bal_price = ecdf_bal_price(df['imbalMeas'])\n"
   ]
  },
  {
   "cell_type": "code",
   "execution_count": 6,
   "metadata": {},
   "outputs": [],
   "source": [
    "# all y==0 are set to 0.0001\n",
    "y_power[y_power == 0] = 0.01\n",
    "y_nominal[y_nominal == 0] = 0.01\n",
    "y_bal_price[y_bal_price == 0] = 0.01\n",
    "\n",
    "# all y==1 are set to 0.9999\n",
    "y_power[y_power == 1] = 0.99\n",
    "y_nominal[y_nominal == 1] = 0.99\n",
    "y_bal_price[y_bal_price == 1] = 0.99\n"
   ]
  },
  {
   "cell_type": "code",
   "execution_count": 7,
   "metadata": {},
   "outputs": [
    {
     "data": {
      "text/plain": [
       "(array([0.00322838, 0.        , 0.00322838, 0.        , 0.00322838,\n",
       "        0.00322838, 0.00322838, 0.00645675, 0.00322838, 0.00968513,\n",
       "        0.00645675, 0.00968513, 0.0129135 , 0.01614188, 0.        ,\n",
       "        0.03874051, 0.025827  , 0.025827  , 0.03874051, 0.03874051,\n",
       "        0.03874051, 0.04196888, 0.08393776, 0.00645675, 0.08393776,\n",
       "        0.        , 0.        , 0.37126318, 0.10976477, 0.15496202,\n",
       "        0.15496202, 0.16787552, 0.1969309 , 0.18724578, 0.23244303,\n",
       "        0.24535654, 0.25181329, 0.27118354, 0.29055379, 0.30346729,\n",
       "        0.31960917, 0.33252267, 0.34866455, 0.35189293, 0.37771993,\n",
       "        0.3809483 , 0.38417668, 0.39386181, 0.34543617, 0.45197256,\n",
       "        0.39709018, 0.3809483 , 0.41000368, 0.38417668, 0.3809483 ,\n",
       "        0.34866455, 0.3809483 , 0.34866455, 0.33252267, 0.31960917,\n",
       "        0.30346729, 0.28732542, 0.27118354, 0.25504166, 0.23889978,\n",
       "        0.22275791, 0.20338765, 0.18724578, 0.1711039 , 0.1581904 ,\n",
       "        0.14204852, 0.12590664, 0.11622152, 0.09039451, 0.10330801,\n",
       "        0.07748101, 0.07425264, 0.06133913, 0.04196888, 0.05811076,\n",
       "        0.04196888, 0.03551213, 0.02905538, 0.02259863, 0.025827  ,\n",
       "        0.01937025, 0.00645675, 0.02259863, 0.00968513, 0.00645675,\n",
       "        0.00645675, 0.00645675, 0.        , 0.00968513, 0.00322838,\n",
       "        0.00322838, 0.        , 0.00322838, 0.        , 0.00322838]),\n",
       " array([-3.50717068e+00, -3.43702727e+00, -3.36688385e+00, -3.29674044e+00,\n",
       "        -3.22659703e+00, -3.15645361e+00, -3.08631020e+00, -3.01616679e+00,\n",
       "        -2.94602337e+00, -2.87587996e+00, -2.80573655e+00, -2.73559313e+00,\n",
       "        -2.66544972e+00, -2.59530630e+00, -2.52516289e+00, -2.45501948e+00,\n",
       "        -2.38487606e+00, -2.31473265e+00, -2.24458924e+00, -2.17444582e+00,\n",
       "        -2.10430241e+00, -2.03415900e+00, -1.96401558e+00, -1.89387217e+00,\n",
       "        -1.82372875e+00, -1.75358534e+00, -1.68344193e+00, -1.61329851e+00,\n",
       "        -1.54315510e+00, -1.47301169e+00, -1.40286827e+00, -1.33272486e+00,\n",
       "        -1.26258145e+00, -1.19243803e+00, -1.12229462e+00, -1.05215120e+00,\n",
       "        -9.82007791e-01, -9.11864377e-01, -8.41720964e-01, -7.71577550e-01,\n",
       "        -7.01434136e-01, -6.31290723e-01, -5.61147309e-01, -4.91003895e-01,\n",
       "        -4.20860482e-01, -3.50717068e-01, -2.80573655e-01, -2.10430241e-01,\n",
       "        -1.40286827e-01, -7.01434136e-02,  7.99360578e-15,  7.01434136e-02,\n",
       "         1.40286827e-01,  2.10430241e-01,  2.80573655e-01,  3.50717068e-01,\n",
       "         4.20860482e-01,  4.91003895e-01,  5.61147309e-01,  6.31290723e-01,\n",
       "         7.01434136e-01,  7.71577550e-01,  8.41720964e-01,  9.11864377e-01,\n",
       "         9.82007791e-01,  1.05215120e+00,  1.12229462e+00,  1.19243803e+00,\n",
       "         1.26258145e+00,  1.33272486e+00,  1.40286827e+00,  1.47301169e+00,\n",
       "         1.54315510e+00,  1.61329851e+00,  1.68344193e+00,  1.75358534e+00,\n",
       "         1.82372875e+00,  1.89387217e+00,  1.96401558e+00,  2.03415900e+00,\n",
       "         2.10430241e+00,  2.17444582e+00,  2.24458924e+00,  2.31473265e+00,\n",
       "         2.38487606e+00,  2.45501948e+00,  2.52516289e+00,  2.59530630e+00,\n",
       "         2.66544972e+00,  2.73559313e+00,  2.80573655e+00,  2.87587996e+00,\n",
       "         2.94602337e+00,  3.01616679e+00,  3.08631020e+00,  3.15645361e+00,\n",
       "         3.22659703e+00,  3.29674044e+00,  3.36688385e+00,  3.43702727e+00,\n",
       "         3.50717068e+00]),\n",
       " <BarContainer object of 100 artists>)"
      ]
     },
     "execution_count": 7,
     "metadata": {},
     "output_type": "execute_result"
    },
    {
     "data": {
      "image/png": "[encoded data removed]",
      "text/plain": [
       "<Figure size 432x288 with 1 Axes>"
      ]
     },
     "metadata": {
      "needs_background": "light"
     },
     "output_type": "display_data"
    }
   ],
   "source": [
    "# transform y varialbes to using inverse normal from scipy\n",
    "from scipy.stats import norm\n",
    "x_power = norm.ppf(y_power)\n",
    "x_nominal = norm.ppf(y_nominal)\n",
    "x_bal_price = norm.ppf(y_bal_price)\n",
    "\n",
    "# plot the transformed variables\n",
    "plt.hist(x_power, bins=100, density=True, alpha=0.5, label='Power')\n",
    "plt.hist(x_nominal, bins=100, density=True, alpha=0.5, label='DA')\n",
    "plt.hist(x_bal_price, bins=100, density=True, alpha=0.5, label='B')\n"
   ]
  },
  {
   "cell_type": "code",
   "execution_count": 8,
   "metadata": {},
   "outputs": [],
   "source": [
    "# Split observations into vectors of length 8\n",
    "x_power_8 = np.array_split(x_power, len(x_power)/8)\n",
    "x_nominal_8 = np.array_split(x_nominal, len(x_nominal)/8)\n",
    "x_bal_price_8 = np.array_split(x_bal_price, len(x_bal_price)/8)\n"
   ]
  },
  {
   "cell_type": "code",
   "execution_count": 9,
   "metadata": {},
   "outputs": [],
   "source": [
    "# concatenate the vectors into a matrix\n",
    "X = np.column_stack((x_power_8, x_nominal_8, x_bal_price_8))\n"
   ]
  },
  {
   "cell_type": "code",
   "execution_count": 10,
   "metadata": {},
   "outputs": [],
   "source": [
    "# compute covariance of X (remove observations with nan values)\n",
    "cov_X = np.cov(X, rowvar=False, ddof=0, aweights=None, fweights=None, bias=False)"
   ]
  },
  {
   "cell_type": "code",
   "execution_count": 11,
   "metadata": {},
   "outputs": [
    {
     "data": {
      "image/png": "[encoded data removed]",
      "text/plain": [
       "<Figure size 432x288 with 2 Axes>"
      ]
     },
     "metadata": {
      "needs_background": "light"
     },
     "output_type": "display_data"
    }
   ],
   "source": [
    "# print covariance matrix as heatmap\n",
    "import seaborn as sns\n",
    "sns.heatmap(cov_X, annot=False)\n",
    "plt.show()\n",
    "\n"
   ]
  },
  {
   "cell_type": "code",
   "execution_count": 12,
   "metadata": {},
   "outputs": [],
   "source": [
    "# set seed\n",
    "np.random.seed(420)\n",
    "\n",
    "# sample 500 observations from the multivariate normal distribution\n",
    "X_sample = np.random.multivariate_normal(np.zeros(24), cov_X, 500)\n"
   ]
  },
  {
   "cell_type": "code",
   "execution_count": 13,
   "metadata": {},
   "outputs": [],
   "source": [
    "# transform the sample back to the original variables\n",
    "y_power_sample = norm.cdf(X_sample[:,0:8])\n",
    "y_nominal_sample = norm.cdf(X_sample[:,8:16])\n",
    "y_bal_price_sample = norm.cdf(X_sample[:,16:24])"
   ]
  },
  {
   "cell_type": "code",
   "execution_count": 14,
   "metadata": {},
   "outputs": [],
   "source": [
    "# deine list\n",
    "power_actual_sample = []\n",
    "nominal_sample = []\n",
    "bal_price_sample = []\n",
    "\n",
    "# loop through each row of the sample\n",
    "for i in range(0, len(y_power_sample)):\n",
    "    # inverse CDF of windMeas\n",
    "    power_actual_sample.append(iecdf_power(y_power_sample[i]))\n",
    "    # inverse CDF of spotMeas\n",
    "    nominal_sample.append(iecdf_nominal(y_nominal_sample[i]))\n",
    "    # inverse CDF of imbalMeas\n",
    "    bal_price_sample.append(iecdf_bal_price(y_bal_price_sample[i]))\n",
    "    \n"
   ]
  },
  {
   "cell_type": "code",
   "execution_count": 15,
   "metadata": {},
   "outputs": [
    {
     "data": {
      "image/png": "[encoded data removed]",
      "text/plain": [
       "<Figure size 432x288 with 1 Axes>"
      ]
     },
     "metadata": {
      "needs_background": "light"
     },
     "output_type": "display_data"
    },
    {
     "data": {
      "image/png": "[encoded data removed]",
      "text/plain": [
       "<Figure size 432x288 with 1 Axes>"
      ]
     },
     "metadata": {
      "needs_background": "light"
     },
     "output_type": "display_data"
    }
   ],
   "source": [
    "# plot the first sample\n",
    "plt.plot(power_actual_sample[0], label='windFor')\n",
    "plt.legend()\n",
    "plt.show()\n",
    "\n",
    "plt.plot(nominal_sample[0], label='DA')\n",
    "plt.plot(bal_price_sample[0], label='B')\n",
    "plt.legend()\n",
    "plt.show()\n",
    "\n",
    "\n"
   ]
  },
  {
   "cell_type": "code",
   "execution_count": 16,
   "metadata": {},
   "outputs": [
    {
     "data": {
      "text/plain": [
       "(500, 24)"
      ]
     },
     "execution_count": 16,
     "metadata": {},
     "output_type": "execute_result"
    }
   ],
   "source": [
    "# stack all samples into a matrix\n",
    "X_sample = np.column_stack((nominal_sample, bal_price_sample,power_actual_sample))\n",
    "X_sample.shape"
   ]
  },
  {
   "cell_type": "code",
   "execution_count": 17,
   "metadata": {},
   "outputs": [],
   "source": [
    "# save the samples to a csv file\n",
    "np.savetxt(\"X_sample.csv\", X_sample, delimiter=\",\")\n",
    "\n"
   ]
  },
  {
   "cell_type": "code",
   "execution_count": null,
   "metadata": {},
   "outputs": [],
   "source": []
  }
 ],
 "metadata": {
  "kernelspec": {
   "display_name": "Python 3",
   "language": "python",
   "name": "python3"
  },
  "language_info": {
   "codemirror_mode": {
    "name": "ipython",
    "version": 3
   },
   "file_extension": ".py",
   "mimetype": "text/x-python",
   "name": "python",
   "nbconvert_exporter": "python",
   "pygments_lexer": "ipython3",
   "version": "3.10.5"
  },
  "orig_nbformat": 4
 },
 "nbformat": 4,
 "nbformat_minor": 2
}
