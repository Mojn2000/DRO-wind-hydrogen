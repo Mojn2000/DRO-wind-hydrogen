{
 "cells": [
  {
   "attachments": {},
   "cell_type": "markdown",
   "metadata": {},
   "source": [
    "## Scenario generation\n"
   ]
  },
  {
   "cell_type": "code",
   "execution_count": 1,
   "metadata": {},
   "outputs": [
    {
     "name": "stdout",
     "output_type": "stream",
     "text": [
      "                        time     speed  speed_actual  power_actual     power  \\\n",
      "0  2022-05-01 00:00:00+00:00  4.533333      4.684836      0.097912  0.096124   \n",
      "1  2022-05-01 01:00:00+00:00  4.500000      5.278248      0.140152  0.093615   \n",
      "2  2022-05-01 02:00:00+00:00  4.516667      5.131543      0.128120  0.094672   \n",
      "3  2022-05-01 03:00:00+00:00  4.233333      4.793329      0.103879  0.077446   \n",
      "4  2022-05-01 04:00:00+00:00  4.233333      4.758330      0.101061  0.077504   \n",
      "\n",
      "   residuals  nominal  forecast  day  hour  bal_price  \n",
      "0   0.001788   197.56    178.88    1     1      73.99  \n",
      "1   0.046538   192.20    173.34    1     2      50.04  \n",
      "2   0.033448   197.43    174.44    1     3      49.53  \n",
      "3   0.026433   201.32    174.58    1     4      50.07  \n",
      "4   0.023557   195.00    177.06    1     5      93.39  \n",
      "                           time     speed  speed_actual  power_actual  \\\n",
      "3571  2022-09-29 19:00:00+00:00  5.683333      7.324427      0.387311   \n",
      "3572  2022-09-29 20:00:00+00:00  5.750000      7.411599      0.400142   \n",
      "3573  2022-09-29 21:00:00+00:00  5.650000      6.905212      0.322860   \n",
      "3574  2022-09-29 22:00:00+00:00  5.633333      6.234028      0.235126   \n",
      "3575  2022-09-29 23:00:00+00:00  5.366667      6.036104      0.214120   \n",
      "\n",
      "         power  residuals  nominal  forecast  day  hour  bal_price  \n",
      "3571  0.192814   0.194497   424.99    400.46  152    20     145.66  \n",
      "3572  0.199866   0.200276   397.03    411.81  152    21     397.03  \n",
      "3573  0.189449   0.133411   374.46    395.96  152    22        NaN  \n",
      "3574  0.187864   0.047262   349.44    363.95  152    23     349.44  \n",
      "3575  0.162118   0.052001   336.10    344.76  152    24     336.10  \n"
     ]
    },
    {
     "data": {
      "text/plain": [
       "(3576, 11)"
      ]
     },
     "execution_count": 1,
     "metadata": {},
     "output_type": "execute_result"
    }
   ],
   "source": [
    "# import pandas and read \"Data/all_dat_merged.csv\" into a dataframe\n",
    "import pandas as pd\n",
    "df = pd.read_csv(\"../Data/all_dat_merged.csv\")\n",
    "# check the first 5 rows of the dataframe\n",
    "print(df.head())\n",
    "# check the last 5 rows of the dataframe\n",
    "print(df.tail())\n",
    "# check the shape of the dataframe\n",
    "df.shape"
   ]
  },
  {
   "cell_type": "code",
   "execution_count": 2,
   "metadata": {},
   "outputs": [
    {
     "name": "stderr",
     "output_type": "stream",
     "text": [
      "/var/folders/f_/09zgsjw54xvfw3k8907hvrnw0000gn/T/ipykernel_63210/3366080027.py:3: SettingWithCopyWarning: \n",
      "A value is trying to be set on a copy of a slice from a DataFrame\n",
      "\n",
      "See the caveats in the documentation: https://pandas.pydata.org/pandas-docs/stable/user_guide/indexing.html#returning-a-view-versus-a-copy\n",
      "  df.bal_price[idx] = df.nominal[idx]\n"
     ]
    }
   ],
   "source": [
    "# find index where the column \"bal_price\" is null\n",
    "idx = df[df[\"bal_price\"].isnull()].index\n",
    "df.bal_price[idx] = df.nominal[idx]"
   ]
  },
  {
   "cell_type": "code",
   "execution_count": 3,
   "metadata": {},
   "outputs": [],
   "source": [
    "# find empirical CDF of power_actual, nominal, and bal_price\n",
    "import numpy as np\n",
    "import matplotlib.pyplot as plt\n",
    "from scipy.interpolate import interp1d\n",
    "\n",
    "# compute empirical CDF of power_actual\n",
    "power_actual_sorted = np.sort(df['power_actual'])\n",
    "\n",
    "# compute empirical CDF of nominal\n",
    "nominal_sorted = np.sort(df['nominal'])\n",
    "\n",
    "# compute empirical CDF of bal_price\n",
    "bal_price_sorted = np.sort(df['bal_price'])\n",
    "\n",
    "\n",
    "\n",
    "# define lookup function that outputs the CDF value for a given x\n",
    "def lookup_cdf(x, x_sorted):\n",
    "    return np.searchsorted(x_sorted, x, side='right') / len(x_sorted)\n",
    "\n",
    "funECDF_power = interp1d(power_actual_sorted, [lookup_cdf(i,power_actual_sorted) for i in power_actual_sorted],bounds_error = False, fill_value=(0,1), assume_sorted=True)\n",
    "funECDF_nominal = interp1d(nominal_sorted, [lookup_cdf(i,nominal_sorted) for i in nominal_sorted],bounds_error = False, fill_value=(0,1), assume_sorted=True)\n",
    "funECDF_bal_price = interp1d(bal_price_sorted, [lookup_cdf(i,bal_price_sorted) for i in bal_price_sorted],bounds_error = False, fill_value=(0,1), assume_sorted=True)\n",
    "\n",
    "# ECDF\n",
    "def ecdf_power(x):\n",
    "    return (funECDF_power(x))\n",
    "\n",
    "def ecdf_nominal(x):\n",
    "    return (funECDF_nominal(x))\n",
    "\n",
    "def ecdf_bal_price(x):\n",
    "    return (funECDF_bal_price(x))\n",
    "\n",
    "funIECDF_power = interp1d([lookup_cdf(i,power_actual_sorted) for i in power_actual_sorted], power_actual_sorted,bounds_error = False, fill_value=(min(power_actual_sorted),max(power_actual_sorted)), assume_sorted=True)\n",
    "funIECDF_nominal = interp1d([lookup_cdf(i,nominal_sorted) for i in nominal_sorted], nominal_sorted,bounds_error = False, fill_value=(min(nominal_sorted),max(nominal_sorted)), assume_sorted=True)\n",
    "funIECDF_bal_price = interp1d([lookup_cdf(i,bal_price_sorted) for i in bal_price_sorted], bal_price_sorted,bounds_error = False, fill_value=(min(bal_price_sorted),max(bal_price_sorted)), assume_sorted=True)\n",
    "\n",
    "\n",
    "# inverse ECDF\n",
    "def iecdf_power(x):\n",
    "    return (funIECDF_power(x))\n",
    "\n",
    "def iecdf_nominal(x):\n",
    "    return (funIECDF_nominal(x))\n",
    "\n",
    "def iecdf_bal_price(x):\n",
    "    return (funIECDF_bal_price(x))\n",
    "\n",
    "    \n"
   ]
  },
  {
   "cell_type": "code",
   "execution_count": 4,
   "metadata": {},
   "outputs": [
    {
     "data": {
      "image/png": "[encoded data removed]",
      "text/plain": [
       "<Figure size 432x288 with 1 Axes>"
      ]
     },
     "metadata": {
      "needs_background": "light"
     },
     "output_type": "display_data"
    },
    {
     "data": {
      "image/png": "[encoded data removed]",
      "text/plain": [
       "<Figure size 432x288 with 1 Axes>"
      ]
     },
     "metadata": {
      "needs_background": "light"
     },
     "output_type": "display_data"
    }
   ],
   "source": [
    "# list of x values to plot from 0 to 1\n",
    "x = np.linspace(0, 1, 100)\n",
    "x2 = np.linspace(0, 1000, 100)\n",
    "\n",
    "# plot the CDFs\n",
    "plt.plot(x, ecdf_power(x), label='Power')\n",
    "plt.legend()\n",
    "plt.show()\n",
    "# new plot\n",
    "plt.plot(x2, ecdf_nominal(x2), label='DA')\n",
    "plt.plot(x2, ecdf_bal_price(x2), label='B')\n",
    "plt.legend()\n",
    "plt.show()\n",
    "\n"
   ]
  },
  {
   "cell_type": "code",
   "execution_count": 5,
   "metadata": {},
   "outputs": [],
   "source": [
    "# compute the transform of the variables\n",
    "y_power = ecdf_power(df['power_actual'])\n",
    "y_nominal = ecdf_nominal(df['nominal'])\n",
    "y_bal_price = ecdf_bal_price(df['bal_price'])\n"
   ]
  },
  {
   "cell_type": "code",
   "execution_count": 6,
   "metadata": {},
   "outputs": [],
   "source": [
    "# all y==0 are set to 0.0001\n",
    "y_power[y_power == 0] = 0.01\n",
    "y_nominal[y_nominal == 0] = 0.01\n",
    "y_bal_price[y_bal_price == 0] = 0.01\n",
    "\n",
    "# all y==1 are set to 0.9999\n",
    "y_power[y_power == 1] = 0.99\n",
    "y_nominal[y_nominal == 1] = 0.99\n",
    "y_bal_price[y_bal_price == 1] = 0.99\n"
   ]
  },
  {
   "cell_type": "code",
   "execution_count": 7,
   "metadata": {},
   "outputs": [
    {
     "data": {
      "text/plain": [
       "(array([0.00405205, 0.        , 0.00405205, 0.        , 0.00405205,\n",
       "        0.00405205, 0.00405205, 0.00405205, 0.00810409, 0.00810409,\n",
       "        0.00810409, 0.01215614, 0.01620818, 0.01215614, 0.02431228,\n",
       "        0.02026023, 0.02026023, 0.02836432, 0.04457251, 0.04862455,\n",
       "        0.        , 0.10940524, 0.01620818, 0.12561343, 0.01215614,\n",
       "        0.        , 0.27148708, 0.10940524, 0.11750933, 0.16613389,\n",
       "        0.15802979, 0.17423798, 0.2026023 , 0.21070639, 0.22691458,\n",
       "        0.23907071, 0.25933094, 0.26743504, 0.2998514 , 0.3079555 ,\n",
       "        0.32011163, 0.33631982, 0.34847596, 0.36063209, 0.37278823,\n",
       "        0.38089232, 0.38494437, 0.39304846, 0.39710051, 0.38089232,\n",
       "        0.41736074, 0.39710051, 0.39304846, 0.38494437, 0.36468414,\n",
       "        0.38899642, 0.35658005, 0.352528  , 0.33631982, 0.32011163,\n",
       "        0.3079555 , 0.29174731, 0.27553913, 0.2552789 , 0.24312276,\n",
       "        0.22691458, 0.20665435, 0.19449821, 0.17423798, 0.16208184,\n",
       "        0.12966547, 0.1499257 , 0.11750933, 0.1053532 , 0.0972491 ,\n",
       "        0.08509297, 0.07698887, 0.06483274, 0.05672864, 0.0526766 ,\n",
       "        0.03241637, 0.04862455, 0.03241637, 0.03241637, 0.02026023,\n",
       "        0.02026023, 0.00405205, 0.02836432, 0.01215614, 0.00810409,\n",
       "        0.00810409, 0.        , 0.01215614, 0.00405205, 0.00405205,\n",
       "        0.00405205, 0.        , 0.00405205, 0.        , 0.00405205]),\n",
       " array([-3.45062789e+00, -3.38161533e+00, -3.31260277e+00, -3.24359021e+00,\n",
       "        -3.17457766e+00, -3.10556510e+00, -3.03655254e+00, -2.96753998e+00,\n",
       "        -2.89852743e+00, -2.82951487e+00, -2.76050231e+00, -2.69148975e+00,\n",
       "        -2.62247719e+00, -2.55346464e+00, -2.48445208e+00, -2.41543952e+00,\n",
       "        -2.34642696e+00, -2.27741441e+00, -2.20840185e+00, -2.13938929e+00,\n",
       "        -2.07037673e+00, -2.00136417e+00, -1.93235162e+00, -1.86333906e+00,\n",
       "        -1.79432650e+00, -1.72531394e+00, -1.65630139e+00, -1.58728883e+00,\n",
       "        -1.51827627e+00, -1.44926371e+00, -1.38025116e+00, -1.31123860e+00,\n",
       "        -1.24222604e+00, -1.17321348e+00, -1.10420092e+00, -1.03518837e+00,\n",
       "        -9.66175809e-01, -8.97163251e-01, -8.28150693e-01, -7.59138135e-01,\n",
       "        -6.90125578e-01, -6.21113020e-01, -5.52100462e-01, -4.83087904e-01,\n",
       "        -4.14075347e-01, -3.45062789e-01, -2.76050231e-01, -2.07037673e-01,\n",
       "        -1.38025116e-01, -6.90125578e-02, -1.77635684e-15,  6.90125578e-02,\n",
       "         1.38025116e-01,  2.07037673e-01,  2.76050231e-01,  3.45062789e-01,\n",
       "         4.14075347e-01,  4.83087904e-01,  5.52100462e-01,  6.21113020e-01,\n",
       "         6.90125578e-01,  7.59138135e-01,  8.28150693e-01,  8.97163251e-01,\n",
       "         9.66175809e-01,  1.03518837e+00,  1.10420092e+00,  1.17321348e+00,\n",
       "         1.24222604e+00,  1.31123860e+00,  1.38025116e+00,  1.44926371e+00,\n",
       "         1.51827627e+00,  1.58728883e+00,  1.65630139e+00,  1.72531394e+00,\n",
       "         1.79432650e+00,  1.86333906e+00,  1.93235162e+00,  2.00136417e+00,\n",
       "         2.07037673e+00,  2.13938929e+00,  2.20840185e+00,  2.27741441e+00,\n",
       "         2.34642696e+00,  2.41543952e+00,  2.48445208e+00,  2.55346464e+00,\n",
       "         2.62247719e+00,  2.69148975e+00,  2.76050231e+00,  2.82951487e+00,\n",
       "         2.89852743e+00,  2.96753998e+00,  3.03655254e+00,  3.10556510e+00,\n",
       "         3.17457766e+00,  3.24359021e+00,  3.31260277e+00,  3.38161533e+00,\n",
       "         3.45062789e+00]),\n",
       " <BarContainer object of 100 artists>)"
      ]
     },
     "execution_count": 7,
     "metadata": {},
     "output_type": "execute_result"
    },
    {
     "data": {
      "image/png": "[encoded data removed]",
      "text/plain": [
       "<Figure size 432x288 with 1 Axes>"
      ]
     },
     "metadata": {
      "needs_background": "light"
     },
     "output_type": "display_data"
    }
   ],
   "source": [
    "# transform y varialbes to using inverse normal from scipy\n",
    "from scipy.stats import norm\n",
    "x_power = norm.ppf(y_power)\n",
    "x_nominal = norm.ppf(y_nominal)\n",
    "x_bal_price = norm.ppf(y_bal_price)\n",
    "\n",
    "# plot the transformed variables\n",
    "plt.hist(x_power, bins=100, density=True, alpha=0.5, label='Power')\n",
    "plt.hist(x_nominal, bins=100, density=True, alpha=0.5, label='DA')\n",
    "plt.hist(x_bal_price, bins=100, density=True, alpha=0.5, label='B')\n"
   ]
  },
  {
   "cell_type": "code",
   "execution_count": 8,
   "metadata": {},
   "outputs": [],
   "source": [
    "# Split observations into vectors of length 8\n",
    "x_power_8 = np.array_split(x_power, len(x_power)/8)\n",
    "x_nominal_8 = np.array_split(x_nominal, len(x_nominal)/8)\n",
    "x_bal_price_8 = np.array_split(x_bal_price, len(x_bal_price)/8)\n"
   ]
  },
  {
   "cell_type": "code",
   "execution_count": 9,
   "metadata": {},
   "outputs": [],
   "source": [
    "# concatenate the vectors into a matrix\n",
    "X = np.column_stack((x_power_8, x_nominal_8, x_bal_price_8))\n"
   ]
  },
  {
   "cell_type": "code",
   "execution_count": 10,
   "metadata": {},
   "outputs": [],
   "source": [
    "# compute covariance of X (remove observations with nan values)\n",
    "cov_X = np.cov(X, rowvar=False, ddof=0, aweights=None, fweights=None, bias=False)"
   ]
  },
  {
   "cell_type": "code",
   "execution_count": 11,
   "metadata": {},
   "outputs": [
    {
     "data": {
      "image/png": "[encoded data removed]",
      "text/plain": [
       "<Figure size 432x288 with 2 Axes>"
      ]
     },
     "metadata": {
      "needs_background": "light"
     },
     "output_type": "display_data"
    }
   ],
   "source": [
    "# print covariance matrix as heatmap\n",
    "import seaborn as sns\n",
    "sns.heatmap(cov_X, annot=False)\n",
    "plt.show()\n",
    "\n"
   ]
  },
  {
   "cell_type": "code",
   "execution_count": 13,
   "metadata": {},
   "outputs": [],
   "source": [
    "# set seed\n",
    "np.random.seed(420)\n",
    "\n",
    "# sample 1000 observations from the multivariate normal distribution\n",
    "X_sample = np.random.multivariate_normal(np.zeros(24), cov_X, 1000)\n"
   ]
  },
  {
   "cell_type": "code",
   "execution_count": 14,
   "metadata": {},
   "outputs": [],
   "source": [
    "# transform the sample back to the original variables\n",
    "y_power_sample = norm.cdf(X_sample[:,0:8])\n",
    "y_nominal_sample = norm.cdf(X_sample[:,8:16])\n",
    "y_bal_price_sample = norm.cdf(X_sample[:,16:24])"
   ]
  },
  {
   "cell_type": "code",
   "execution_count": 16,
   "metadata": {},
   "outputs": [],
   "source": [
    "# deine list\n",
    "power_actual_sample = []\n",
    "nominal_sample = []\n",
    "bal_price_sample = []\n",
    "\n",
    "# loop through each row of the sample\n",
    "for i in range(0, len(y_power_sample)):\n",
    "    #print(i)\n",
    "    # inverse CDF of power_actual\n",
    "    power_actual_sample.append(iecdf_power(y_power_sample[i]))\n",
    "    # inverse CDF of nominal\n",
    "    nominal_sample.append(iecdf_nominal(y_nominal_sample[i]))\n",
    "    # inverse CDF of bal_price\n",
    "    bal_price_sample.append(iecdf_bal_price(y_bal_price_sample[i]))\n",
    "    \n"
   ]
  },
  {
   "cell_type": "code",
   "execution_count": 17,
   "metadata": {},
   "outputs": [
    {
     "data": {
      "image/png": "[encoded data removed]",
      "text/plain": [
       "<Figure size 432x288 with 1 Axes>"
      ]
     },
     "metadata": {
      "needs_background": "light"
     },
     "output_type": "display_data"
    },
    {
     "data": {
      "image/png": "[encoded data removed]",
      "text/plain": [
       "<Figure size 432x288 with 1 Axes>"
      ]
     },
     "metadata": {
      "needs_background": "light"
     },
     "output_type": "display_data"
    }
   ],
   "source": [
    "# plot the first sample\n",
    "plt.plot(power_actual_sample[0], label='Power')\n",
    "plt.legend()\n",
    "plt.show()\n",
    "\n",
    "plt.plot(nominal_sample[0], label='DA')\n",
    "plt.plot(bal_price_sample[0], label='B')\n",
    "plt.legend()\n",
    "plt.show()\n",
    "\n",
    "\n"
   ]
  },
  {
   "cell_type": "code",
   "execution_count": 18,
   "metadata": {},
   "outputs": [
    {
     "data": {
      "text/plain": [
       "(1000, 24)"
      ]
     },
     "execution_count": 18,
     "metadata": {},
     "output_type": "execute_result"
    }
   ],
   "source": [
    "# stack all samples into a matrix\n",
    "X_sample = np.column_stack((nominal_sample, bal_price_sample,power_actual_sample))\n",
    "X_sample.shape"
   ]
  },
  {
   "cell_type": "code",
   "execution_count": 19,
   "metadata": {},
   "outputs": [],
   "source": [
    "# save the samples to a csv file\n",
    "np.savetxt(\"X_sample.csv\", X_sample, delimiter=\",\")\n",
    "\n"
   ]
  }
 ],
 "metadata": {
  "kernelspec": {
   "display_name": "Python 3",
   "language": "python",
   "name": "python3"
  },
  "language_info": {
   "codemirror_mode": {
    "name": "ipython",
    "version": 3
   },
   "file_extension": ".py",
   "mimetype": "text/x-python",
   "name": "python",
   "nbconvert_exporter": "python",
   "pygments_lexer": "ipython3",
   "version": "3.10.5"
  },
  "orig_nbformat": 4
 },
 "nbformat": 4,
 "nbformat_minor": 2
}
